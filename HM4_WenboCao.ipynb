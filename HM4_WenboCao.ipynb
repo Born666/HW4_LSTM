{
  "nbformat": 4,
  "nbformat_minor": 0,
  "metadata": {
    "kernelspec": {
      "name": "python3",
      "display_name": "Python 3"
    },
    "language_info": {
      "codemirror_mode": {
        "name": "ipython",
        "version": 3
      },
      "file_extension": ".py",
      "mimetype": "text/x-python",
      "name": "python",
      "nbconvert_exporter": "python",
      "pygments_lexer": "ipython3",
      "version": "3.6.4"
    },
    "colab": {
      "name": "HM4.ipynb",
      "provenance": [],
      "collapsed_sections": []
    },
    "accelerator": "GPU"
  },
  "cells": [
    {
      "cell_type": "markdown",
      "metadata": {
        "id": "XJGlCawhGXoy",
        "colab_type": "text"
      },
      "source": [
        "# Home 4: Build a seq2seq model for machine translation.\n",
        "\n",
        "### Name: Wenbo Cao\n",
        "\n",
        "### Task: Translate English to Franch"
      ]
    },
    {
      "cell_type": "markdown",
      "metadata": {
        "id": "YhKBedYRGXo1",
        "colab_type": "text"
      },
      "source": [
        "## 0. You will do the following:\n",
        "\n",
        "1. Read and run my code.\n",
        "2. Complete the code in Section 1.1 and Section 4.2.\n",
        "\n",
        "    * Translation English to **German** is not acceptable!!! Try another language.\n",
        "    \n",
        "3. **Make improvements.** Directly modify the code in Section 3. Do at least one of the followings. By doing more, you will get up to 2 bonus scores to the total.\n",
        "\n",
        "    * Bi-LSTM instead of LSTM\n",
        "    \n",
        "    * Multi-task learning (e.g., both English to French and English to Spanish)\n",
        "    \n",
        "    * Attention\n",
        "    \n",
        "4. Evaluate the translation using the BLEU score. \n",
        "\n",
        "    * Optional. Up to 1 bonus scores to the total.\n",
        "    \n",
        "5. Convert the notebook to .HTML file. \n",
        "\n",
        "    * The HTML file must contain the code and the output after execution.\n",
        "\n",
        "6. Put the .HTML file in your Google Drive, Dropbox, or Github repo. \n",
        "\n",
        "7. Submit the link to the HTML file to Canvas.    \n"
      ]
    },
    {
      "cell_type": "markdown",
      "metadata": {
        "id": "xuDZNKkmGXo7",
        "colab_type": "text"
      },
      "source": [
        "### Hint: \n",
        "\n",
        "To implement ```Bi-LSTM```, you will need the following code to build the encoder; the decoder won't be much different."
      ]
    },
    {
      "cell_type": "code",
      "metadata": {
        "id": "INiccQ3EGXpD",
        "colab_type": "code",
        "colab": {}
      },
      "source": [
        "from keras.layers import Bidirectional, Concatenate,LSTM\n",
        "latent_dim = 200\n",
        "\n",
        "encoder_bilstm = Bidirectional(LSTM(latent_dim, return_state=True, \n",
        "                                  dropout=0.5, name='encoder_lstm'))\n",
        "_, forward_h, forward_c, backward_h, backward_c = encoder_bilstm(encoder_inputs)\n",
        "\n",
        "state_h = Concatenate()([forward_h, backward_h])\n",
        "state_c = Concatenate()([forward_c, backward_c])"
      ],
      "execution_count": 0,
      "outputs": []
    },
    {
      "cell_type": "markdown",
      "metadata": {
        "id": "aGozkDnTGXpL",
        "colab_type": "text"
      },
      "source": [
        "### Hint: \n",
        "\n",
        "To implement multi-task training, you can refer to ```Section 7.1.3 Multi-output models``` of the textbook, ```Deep Learning with Python```."
      ]
    },
    {
      "cell_type": "markdown",
      "metadata": {
        "id": "3lIj-LqAGXpP",
        "colab_type": "text"
      },
      "source": [
        "## 1. Data preparation\n",
        "\n",
        "1. Download data (e.g., \"deu-eng.zip\") from http://www.manythings.org/anki/\n",
        "2. Unzip the .ZIP file.\n",
        "3. Put the .TXT file (e.g., \"deu.txt\") in the directory \"./Data/\"."
      ]
    },
    {
      "cell_type": "markdown",
      "metadata": {
        "id": "z9Vc-qiiGXpR",
        "colab_type": "text"
      },
      "source": [
        "### 1.1. Load and clean text\n"
      ]
    },
    {
      "cell_type": "code",
      "metadata": {
        "id": "QFPJssi7GXpT",
        "colab_type": "code",
        "colab": {}
      },
      "source": [
        "import re\n",
        "import string\n",
        "from unicodedata import normalize\n",
        "import numpy\n",
        "\n",
        "# load doc into memory\n",
        "def load_doc(filename):\n",
        "    # open the file as read only\n",
        "    file = open(filename, mode='rt', encoding='utf-8')\n",
        "    # read all text\n",
        "    text = file.read()\n",
        "    # close the file\n",
        "    file.close()\n",
        "    return text\n",
        "\n",
        "\n",
        "# split a loaded document into sentences\n",
        "def to_pairs(doc):\n",
        "    lines = doc.strip().split('\\n')\n",
        "    pairs = [line.split('\\t') for line in  lines]\n",
        "    return pairs\n",
        "\n",
        "def clean_data(lines):\n",
        "    cleaned = list()\n",
        "    # prepare regex for char filtering\n",
        "    re_print = re.compile('[^%s]' % re.escape(string.printable))\n",
        "    # prepare translation table for removing punctuation\n",
        "    table = str.maketrans('', '', string.punctuation)\n",
        "    for pair in lines:\n",
        "        clean_pair = list()\n",
        "        for line in pair:\n",
        "            # normalize unicode characters\n",
        "            line = normalize('NFD', line).encode('ascii', 'ignore')\n",
        "            line = line.decode('UTF-8')\n",
        "            # tokenize on white space\n",
        "            line = line.split()\n",
        "            # convert to lowercase\n",
        "            line = [word.lower() for word in line]\n",
        "            # remove punctuation from each token\n",
        "            line = [word.translate(table) for word in line]\n",
        "            # remove non-printable chars form each token\n",
        "            line = [re_print.sub('', w) for w in line]\n",
        "            # remove tokens with numbers in them\n",
        "            line = [word for word in line if word.isalpha()]\n",
        "            # store as string\n",
        "            clean_pair.append(' '.join(line))\n",
        "        cleaned.append(clean_pair)\n",
        "    return numpy.array(cleaned)"
      ],
      "execution_count": 0,
      "outputs": []
    },
    {
      "cell_type": "markdown",
      "metadata": {
        "id": "J8_70uS3GXpa",
        "colab_type": "text"
      },
      "source": [
        "#### Fill the following blanks:"
      ]
    },
    {
      "cell_type": "code",
      "metadata": {
        "id": "AeNdtvbqszL4",
        "colab_type": "code",
        "outputId": "f15b736f-d31f-419d-eb2b-b334fa7ee996",
        "colab": {
          "base_uri": "https://localhost:8080/",
          "height": 35
        }
      },
      "source": [
        "from google.colab import drive\n",
        "drive.mount(\"/content/drive\")"
      ],
      "execution_count": 4,
      "outputs": [
        {
          "output_type": "stream",
          "text": [
            "Drive already mounted at /content/drive; to attempt to forcibly remount, call drive.mount(\"/content/drive\", force_remount=True).\n"
          ],
          "name": "stdout"
        }
      ]
    },
    {
      "cell_type": "code",
      "metadata": {
        "id": "ddnIx-WUGXpd",
        "colab_type": "code",
        "colab": {}
      },
      "source": [
        "# e.g., filename = 'Data/deu.txt'\n",
        "\n",
        "\n",
        "filename = '/content/drive/My Drive/fra.txt'\n",
        "\n",
        "# e.g., n_train = 20000\n",
        "n_train = 100000"
      ],
      "execution_count": 0,
      "outputs": []
    },
    {
      "cell_type": "code",
      "metadata": {
        "id": "TX8kgbX0fX6W",
        "colab_type": "code",
        "colab": {}
      },
      "source": [
        "# load dataset\n",
        "doc = load_doc(filename)\n",
        "\n",
        "# split into Language1-Language2 pairs\n",
        "pairs = to_pairs(doc)\n",
        "\n",
        "# clean sentences\n",
        "clean_pairs = clean_data(pairs)[0:n_train, :]"
      ],
      "execution_count": 0,
      "outputs": []
    },
    {
      "cell_type": "code",
      "metadata": {
        "id": "eha9NNC_GXpr",
        "colab_type": "code",
        "outputId": "63da8cbd-d7cc-4ab7-c1aa-9a2b1266b9bc",
        "colab": {
          "base_uri": "https://localhost:8080/",
          "height": 194
        }
      },
      "source": [
        "for i in range(3000, 3010):\n",
        "    print('[' + clean_pairs[i, 0] + '] => [' + clean_pairs[i, 1] + ']')"
      ],
      "execution_count": 5,
      "outputs": [
        {
          "output_type": "stream",
          "text": [
            "[whats that] => [quest cela]\n",
            "[whats this] => [questce que cest]\n",
            "[whats this] => [cest quoi]\n",
            "[whats this] => [cest quoi ca]\n",
            "[where is he] => [ou estil]\n",
            "[where is it] => [ou estil]\n",
            "[where is it] => [ou estelle]\n",
            "[where was i] => [ou en etaisje]\n",
            "[where was i] => [ou etaisje]\n",
            "[wheres tom] => [ou est tom]\n"
          ],
          "name": "stdout"
        }
      ]
    },
    {
      "cell_type": "code",
      "metadata": {
        "id": "-7uJcvT6GXp2",
        "colab_type": "code",
        "outputId": "cf05507e-0324-4316-d3f2-532a93cab4b9",
        "colab": {
          "base_uri": "https://localhost:8080/",
          "height": 52
        }
      },
      "source": [
        "input_texts = clean_pairs[:, 0]\n",
        "target_texts = ['\\t' + text + '\\n' for text in clean_pairs[:, 1]]\n",
        "\n",
        "print('Length of input_texts:  ' + str(input_texts.shape))\n",
        "print('Length of target_texts: ' + str(input_texts.shape))\n"
      ],
      "execution_count": 6,
      "outputs": [
        {
          "output_type": "stream",
          "text": [
            "Length of input_texts:  (100000,)\n",
            "Length of target_texts: (100000,)\n"
          ],
          "name": "stdout"
        }
      ]
    },
    {
      "cell_type": "code",
      "metadata": {
        "id": "uRrQyQPHGXp8",
        "colab_type": "code",
        "outputId": "69134eb1-3da9-43b9-ede1-99f3e0d9c66f",
        "colab": {
          "base_uri": "https://localhost:8080/",
          "height": 52
        }
      },
      "source": [
        "max_encoder_seq_length = max(len(line) for line in input_texts)\n",
        "max_decoder_seq_length = max(len(line) for line in target_texts)\n",
        "\n",
        "print('max length of input  sentences: %d' % (max_encoder_seq_length))\n",
        "print('max length of target sentences: %d' % (max_decoder_seq_length))"
      ],
      "execution_count": 7,
      "outputs": [
        {
          "output_type": "stream",
          "text": [
            "max length of input  sentences: 30\n",
            "max length of target sentences: 72\n"
          ],
          "name": "stdout"
        }
      ]
    },
    {
      "cell_type": "markdown",
      "metadata": {
        "id": "KQG8QRUUGXqC",
        "colab_type": "text"
      },
      "source": [
        "**Remark:** To this end, you have two lists of sentences: input_texts and target_texts"
      ]
    },
    {
      "cell_type": "markdown",
      "metadata": {
        "id": "MFpVW2hAGXqE",
        "colab_type": "text"
      },
      "source": [
        "## 2. Text processing\n",
        "\n",
        "### 2.1. Convert texts to sequences\n",
        "\n",
        "- Input: A list of $n$ sentences (with max length $t$).\n",
        "- It is represented by a $n\\times t$ matrix after the tokenization and zero-padding."
      ]
    },
    {
      "cell_type": "code",
      "metadata": {
        "id": "7WpCu0NAGXqG",
        "colab_type": "code",
        "outputId": "ecbc026a-0eb5-48ef-c7b0-68f03123614b",
        "colab": {
          "base_uri": "https://localhost:8080/",
          "height": 153
        }
      },
      "source": [
        "from keras.preprocessing.text import Tokenizer\n",
        "from keras.preprocessing.sequence import pad_sequences\n",
        "\n",
        "# encode and pad sequences\n",
        "def text2sequences(max_len, lines):\n",
        "    tokenizer = Tokenizer(char_level=True, filters='')\n",
        "    tokenizer.fit_on_texts(lines)\n",
        "    seqs = tokenizer.texts_to_sequences(lines)\n",
        "    seqs_pad = pad_sequences(seqs,maxlen=max_len, padding='post') #maxlen=max_len,\n",
        "    #print(type(seqs))\n",
        "    return seqs_pad, tokenizer.word_index\n",
        "\n",
        "\n",
        "encoder_input_seq, input_token_index = text2sequences(max_encoder_seq_length, \n",
        "                                                      input_texts)\n",
        "decoder_input_seq, target_token_index = text2sequences(max_decoder_seq_length, \n",
        "                                                       target_texts)\n",
        "\n",
        "print('shape of encoder_input_seq: ' + str(encoder_input_seq.shape))\n",
        "print('shape of input_token_index: ' + str(len(input_token_index)))\n",
        "print('shape of decoder_input_seq: ' + str(decoder_input_seq.shape))\n",
        "print('shape of target_token_index: ' + str(len(target_token_index)))"
      ],
      "execution_count": 8,
      "outputs": [
        {
          "output_type": "stream",
          "text": [
            "Using TensorFlow backend.\n"
          ],
          "name": "stderr"
        },
        {
          "output_type": "display_data",
          "data": {
            "text/html": [
              "<p style=\"color: red;\">\n",
              "The default version of TensorFlow in Colab will soon switch to TensorFlow 2.x.<br>\n",
              "We recommend you <a href=\"https://www.tensorflow.org/guide/migrate\" target=\"_blank\">upgrade</a> now \n",
              "or ensure your notebook will continue to use TensorFlow 1.x via the <code>%tensorflow_version 1.x</code> magic:\n",
              "<a href=\"https://colab.research.google.com/notebooks/tensorflow_version.ipynb\" target=\"_blank\">more info</a>.</p>\n"
            ],
            "text/plain": [
              "<IPython.core.display.HTML object>"
            ]
          },
          "metadata": {
            "tags": []
          }
        },
        {
          "output_type": "stream",
          "text": [
            "shape of encoder_input_seq: (100000, 30)\n",
            "shape of input_token_index: 27\n",
            "shape of decoder_input_seq: (100000, 72)\n",
            "shape of target_token_index: 29\n"
          ],
          "name": "stdout"
        }
      ]
    },
    {
      "cell_type": "code",
      "metadata": {
        "id": "e_wR8XiEGXqM",
        "colab_type": "code",
        "outputId": "3fe18ff9-c9f5-4b39-9983-157c99acce4b",
        "colab": {
          "base_uri": "https://localhost:8080/",
          "height": 52
        }
      },
      "source": [
        "num_encoder_tokens = len(input_token_index) + 1\n",
        "num_decoder_tokens = len(target_token_index) + 1\n",
        "\n",
        "print('num_encoder_tokens: ' + str(num_encoder_tokens))\n",
        "print('num_decoder_tokens: ' + str(num_decoder_tokens))"
      ],
      "execution_count": 0,
      "outputs": [
        {
          "output_type": "stream",
          "text": [
            "num_encoder_tokens: 28\n",
            "num_decoder_tokens: 30\n"
          ],
          "name": "stdout"
        }
      ]
    },
    {
      "cell_type": "markdown",
      "metadata": {
        "id": "3IdBvRhdGXqQ",
        "colab_type": "text"
      },
      "source": [
        "**Remark:** To this end, the input language and target language texts are converted to 2 matrices. \n",
        "\n",
        "- Their number of rows are both n_train.\n",
        "- Their number of columns are respective max_encoder_seq_length and max_decoder_seq_length."
      ]
    },
    {
      "cell_type": "markdown",
      "metadata": {
        "id": "EvsrNWMpGXqS",
        "colab_type": "text"
      },
      "source": [
        "The followings print a sentence and its representation as a sequence."
      ]
    },
    {
      "cell_type": "code",
      "metadata": {
        "id": "ejycNCHrGXqY",
        "colab_type": "code",
        "outputId": "9148ac6c-a73f-4d34-a4fa-1218bb3db86b",
        "colab": {
          "base_uri": "https://localhost:8080/",
          "height": 106
        }
      },
      "source": [
        "decoder_input_seq[100, :]"
      ],
      "execution_count": 0,
      "outputs": [
        {
          "output_type": "execute_result",
          "data": {
            "text/plain": [
              "array([12,  2,  8,  6, 10,  2, 13,  0,  0,  0,  0,  0,  0,  0,  0,  0,  0,\n",
              "        0,  0,  0,  0,  0,  0,  0,  0,  0,  0,  0,  0,  0,  0,  0,  0,  0,\n",
              "        0,  0,  0,  0,  0,  0,  0,  0,  0,  0,  0,  0,  0,  0,  0,  0,  0,\n",
              "        0,  0,  0,  0,  0,  0,  0,  0,  0,  0,  0,  0,  0,  0,  0,  0,  0,\n",
              "        0,  0,  0,  0], dtype=int32)"
            ]
          },
          "metadata": {
            "tags": []
          },
          "execution_count": 12
        }
      ]
    },
    {
      "cell_type": "markdown",
      "metadata": {
        "id": "znXcrwb6GXqe",
        "colab_type": "text"
      },
      "source": [
        "## 2.2. One-hot encode\n",
        "\n",
        "- Input: A list of $n$ sentences (with max length $t$).\n",
        "- It is represented by a $n\\times t$ matrix after the tokenization and zero-padding.\n",
        "- It is represented by a $n\\times t \\times v$ tensor ($t$ is the number of unique chars) after the one-hot encoding."
      ]
    },
    {
      "cell_type": "code",
      "metadata": {
        "id": "ygdTLNnYGXqe",
        "colab_type": "code",
        "outputId": "0b36cbad-1d20-423a-a151-c7a9e08f1c31",
        "colab": {
          "base_uri": "https://localhost:8080/",
          "height": 52
        }
      },
      "source": [
        "from keras.utils import to_categorical\n",
        "\n",
        "# one hot encode target sequence\n",
        "def onehot_encode(sequences, max_len, vocab_size):\n",
        "    n = len(sequences)\n",
        "    data = numpy.zeros((n, max_len, vocab_size))\n",
        "    for i in range(n):\n",
        "        data[i, :, :] = to_categorical(sequences[i], num_classes=vocab_size)\n",
        "    return data\n",
        "\n",
        "encoder_input_data = onehot_encode(encoder_input_seq, max_encoder_seq_length, num_encoder_tokens)\n",
        "decoder_input_data = onehot_encode(decoder_input_seq, max_decoder_seq_length, num_decoder_tokens)\n",
        "\n",
        "decoder_target_seq = numpy.zeros(decoder_input_seq.shape)\n",
        "decoder_target_seq[:, 0:-1] = decoder_input_seq[:, 1:]\n",
        "decoder_target_data = onehot_encode(decoder_target_seq, \n",
        "                                    max_decoder_seq_length, \n",
        "                                    num_decoder_tokens)\n",
        "\n",
        "print(encoder_input_data.shape)\n",
        "print(decoder_input_data.shape)"
      ],
      "execution_count": 0,
      "outputs": [
        {
          "output_type": "stream",
          "text": [
            "(100000, 30, 28)\n",
            "(100000, 72, 30)\n"
          ],
          "name": "stdout"
        }
      ]
    },
    {
      "cell_type": "markdown",
      "metadata": {
        "id": "SjozbQNjGXqm",
        "colab_type": "text"
      },
      "source": [
        "## 3. Build the networks (for training)\n",
        "\n",
        "- Build encoder, decoder, and connect the two modules to get \"model\". \n",
        "\n",
        "- Fit the model on the bilingual data to train the parameters in the encoder and decoder."
      ]
    },
    {
      "cell_type": "markdown",
      "metadata": {
        "id": "k9E-_DupGXqn",
        "colab_type": "text"
      },
      "source": [
        "### 3.1. Encoder network\n",
        "\n",
        "- Input:  one-hot encode of the input language\n",
        "\n",
        "- Return: \n",
        "\n",
        "    -- output (all the hidden states   $h_1, \\cdots , h_t$) are always discarded\n",
        "    \n",
        "    -- the final hidden state  $h_t$\n",
        "    \n",
        "    -- the final conveyor belt $c_t$"
      ]
    },
    {
      "cell_type": "code",
      "metadata": {
        "id": "Q4RvCQKkGXqq",
        "colab_type": "code",
        "outputId": "49bf1068-b3af-4405-b46e-02353b9997f5",
        "colab": {
          "base_uri": "https://localhost:8080/",
          "height": 232
        }
      },
      "source": [
        "from keras.layers import Input, LSTM,Bidirectional,Concatenate,Embedding,Reshape\n",
        "from keras.models import Model\n",
        "\n",
        "latent_dim = 256\n",
        "Embedding_dim = 256\n",
        "# inputs of the encoder network\n",
        "encoder_inputs = Input(shape=(None, num_encoder_tokens), \n",
        "                       name='encoder_inputs')\n",
        "\n",
        "# set the LSTM layer\n",
        "encoder_lstm = Bidirectional(LSTM(latent_dim, return_state=True, return_sequences=True,\n",
        "                    dropout=0.5, name='encoder_lstm'))\n",
        "_, state_h, state_c,state_h1,state_c1 = encoder_lstm(encoder_inputs)\n",
        "\n",
        "state_h = Concatenate()([state_h,state_h1])\n",
        "state_c = Concatenate()([state_c,state_c1])\n",
        "\n",
        "# build the encoder network model\n",
        "encoder_model = Model(inputs=encoder_inputs, \n",
        "                      outputs=(state_h, state_c),\n",
        "                      name='encoder')"
      ],
      "execution_count": 0,
      "outputs": [
        {
          "output_type": "stream",
          "text": [
            "WARNING:tensorflow:From /usr/local/lib/python3.6/dist-packages/keras/backend/tensorflow_backend.py:541: The name tf.placeholder is deprecated. Please use tf.compat.v1.placeholder instead.\n",
            "\n",
            "WARNING:tensorflow:From /usr/local/lib/python3.6/dist-packages/keras/backend/tensorflow_backend.py:66: The name tf.get_default_graph is deprecated. Please use tf.compat.v1.get_default_graph instead.\n",
            "\n",
            "WARNING:tensorflow:From /usr/local/lib/python3.6/dist-packages/keras/backend/tensorflow_backend.py:4432: The name tf.random_uniform is deprecated. Please use tf.random.uniform instead.\n",
            "\n",
            "WARNING:tensorflow:From /usr/local/lib/python3.6/dist-packages/keras/backend/tensorflow_backend.py:148: The name tf.placeholder_with_default is deprecated. Please use tf.compat.v1.placeholder_with_default instead.\n",
            "\n",
            "WARNING:tensorflow:From /usr/local/lib/python3.6/dist-packages/keras/backend/tensorflow_backend.py:3733: calling dropout (from tensorflow.python.ops.nn_ops) with keep_prob is deprecated and will be removed in a future version.\n",
            "Instructions for updating:\n",
            "Please use `rate` instead of `keep_prob`. Rate should be set to `rate = 1 - keep_prob`.\n"
          ],
          "name": "stdout"
        }
      ]
    },
    {
      "cell_type": "markdown",
      "metadata": {
        "id": "FZ3q26zbGXqu",
        "colab_type": "text"
      },
      "source": [
        "Print a summary and save the encoder network structure to \"./encoder.pdf\""
      ]
    },
    {
      "cell_type": "code",
      "metadata": {
        "id": "BZ0J7w_yGXqv",
        "colab_type": "code",
        "outputId": "679f0920-e091-46ca-d81d-8b3b8787cf08",
        "colab": {
          "base_uri": "https://localhost:8080/",
          "height": 336
        }
      },
      "source": [
        "from IPython.display import SVG\n",
        "from keras.utils.vis_utils import model_to_dot, plot_model\n",
        "\n",
        "SVG(model_to_dot(encoder_model, show_shapes=False).create(prog='dot', format='svg'))\n",
        "\n",
        "plot_model(\n",
        "    model=encoder_model, show_shapes=False,to_file='encoder.png'\n",
        "    \n",
        ")\n",
        "\n",
        "encoder_model.summary()"
      ],
      "execution_count": 0,
      "outputs": [
        {
          "output_type": "stream",
          "text": [
            "Model: \"encoder\"\n",
            "__________________________________________________________________________________________________\n",
            "Layer (type)                    Output Shape         Param #     Connected to                     \n",
            "==================================================================================================\n",
            "encoder_inputs (InputLayer)     (None, None, 28)     0                                            \n",
            "__________________________________________________________________________________________________\n",
            "bidirectional_1 (Bidirectional) [(None, None, 512),  583680      encoder_inputs[0][0]             \n",
            "__________________________________________________________________________________________________\n",
            "concatenate_1 (Concatenate)     (None, 512)          0           bidirectional_1[0][1]            \n",
            "                                                                 bidirectional_1[0][3]            \n",
            "__________________________________________________________________________________________________\n",
            "concatenate_2 (Concatenate)     (None, 512)          0           bidirectional_1[0][2]            \n",
            "                                                                 bidirectional_1[0][4]            \n",
            "==================================================================================================\n",
            "Total params: 583,680\n",
            "Trainable params: 583,680\n",
            "Non-trainable params: 0\n",
            "__________________________________________________________________________________________________\n"
          ],
          "name": "stdout"
        }
      ]
    },
    {
      "cell_type": "markdown",
      "metadata": {
        "id": "kC0_TkEtGXqz",
        "colab_type": "text"
      },
      "source": [
        "### 3.2. Decoder network\n",
        "\n",
        "- Inputs:  \n",
        "\n",
        "    -- one-hot encode of the target language\n",
        "    \n",
        "    -- The initial hidden state $h_t$ \n",
        "    \n",
        "    -- The initial conveyor belt $c_t$ \n",
        "\n",
        "- Return: \n",
        "\n",
        "    -- output (all the hidden states) $h_1, \\cdots , h_t$\n",
        "\n",
        "    -- the final hidden state  $h_t$ (discarded in the training and used in the prediction)\n",
        "    \n",
        "    -- the final conveyor belt $c_t$ (discarded in the training and used in the prediction)"
      ]
    },
    {
      "cell_type": "code",
      "metadata": {
        "id": "Pc8Q7mjQGXq1",
        "colab_type": "code",
        "colab": {}
      },
      "source": [
        "from keras.layers import Input, LSTM, Dense\n",
        "from keras.models import Model\n",
        "\n",
        "latent_dim_two = 512\n",
        "# inputs of the decoder network\n",
        "decoder_input_h = Input(shape=(latent_dim_two,), name='decoder_input_h')\n",
        "decoder_input_c = Input(shape=(latent_dim_two,), name='decoder_input_c')\n",
        "decoder_input_x = Input(shape=(None, num_decoder_tokens), name='decoder_input_x')\n",
        "\n",
        "# set the LSTM layer\n",
        "decoder_lstm = LSTM(latent_dim_two, return_sequences=True,return_state=True, dropout=0.5, name='decoder_lstm')\n",
        "decoder_lstm_outputs, state_h, state_c = decoder_lstm(decoder_input_x,initial_state=[decoder_input_h, decoder_input_c])\n",
        "\n",
        "# set the dense layer\n",
        "decoder_dense = Dense(num_decoder_tokens, activation='softmax', name='decoder_dense')\n",
        "decoder_outputs = decoder_dense(decoder_lstm_outputs)\n",
        "\n",
        "# build the decoder network model\n",
        "decoder_model = Model(inputs=[decoder_input_x, decoder_input_h, decoder_input_c],\n",
        "                      outputs=[decoder_outputs, state_h, state_c],\n",
        "                      name='decoder')"
      ],
      "execution_count": 0,
      "outputs": []
    },
    {
      "cell_type": "markdown",
      "metadata": {
        "id": "U1YCVRqIGXq4",
        "colab_type": "text"
      },
      "source": [
        "Print a summary and save the encoder network structure to \"./decoder.pdf\""
      ]
    },
    {
      "cell_type": "code",
      "metadata": {
        "id": "j3eeHPkmGXq5",
        "colab_type": "code",
        "outputId": "044203f0-41f3-46bc-bbef-a7da685f6156",
        "colab": {
          "base_uri": "https://localhost:8080/",
          "height": 371
        }
      },
      "source": [
        "from IPython.display import SVG\n",
        "from keras.utils.vis_utils import model_to_dot, plot_model\n",
        "\n",
        "SVG(model_to_dot(decoder_model, show_shapes=False).create(prog='dot', format='svg'))\n",
        "\n",
        "plot_model(\n",
        "    model=decoder_model, show_shapes=False,\n",
        "    #to_file='decoder.png'\n",
        ")\n",
        "\n",
        "decoder_model.summary()"
      ],
      "execution_count": 0,
      "outputs": [
        {
          "output_type": "stream",
          "text": [
            "Model: \"decoder\"\n",
            "__________________________________________________________________________________________________\n",
            "Layer (type)                    Output Shape         Param #     Connected to                     \n",
            "==================================================================================================\n",
            "decoder_input_x (InputLayer)    (None, None, 30)     0                                            \n",
            "__________________________________________________________________________________________________\n",
            "decoder_input_h (InputLayer)    (None, 512)          0                                            \n",
            "__________________________________________________________________________________________________\n",
            "decoder_input_c (InputLayer)    (None, 512)          0                                            \n",
            "__________________________________________________________________________________________________\n",
            "decoder_lstm (LSTM)             [(None, None, 512),  1112064     decoder_input_x[0][0]            \n",
            "                                                                 decoder_input_h[0][0]            \n",
            "                                                                 decoder_input_c[0][0]            \n",
            "__________________________________________________________________________________________________\n",
            "decoder_dense (Dense)           (None, None, 30)     15390       decoder_lstm[0][0]               \n",
            "==================================================================================================\n",
            "Total params: 1,127,454\n",
            "Trainable params: 1,127,454\n",
            "Non-trainable params: 0\n",
            "__________________________________________________________________________________________________\n"
          ],
          "name": "stdout"
        }
      ]
    },
    {
      "cell_type": "markdown",
      "metadata": {
        "id": "OuO3QS5KGXrA",
        "colab_type": "text"
      },
      "source": [
        "### 3.3. Connect the encoder and decoder"
      ]
    },
    {
      "cell_type": "code",
      "metadata": {
        "id": "eohIRHY5GXrB",
        "colab_type": "code",
        "colab": {}
      },
      "source": [
        "# input layers\n",
        "encoder_input_x = Input(shape=(None, num_encoder_tokens), name='encoder_input_x')\n",
        "decoder_input_x = Input(shape=(None, num_decoder_tokens), name='decoder_input_x')\n",
        "\n",
        "# connect encoder to decoder\n",
        "encoder_final_states = encoder_model([encoder_input_x])\n",
        "decoder_lstm_output,_,_= decoder_lstm(decoder_input_x, initial_state=encoder_final_states)\n",
        "decoder_pred = decoder_dense(decoder_lstm_output)\n",
        "\n",
        "model = Model(inputs=[encoder_input_x, decoder_input_x], \n",
        "              outputs=decoder_pred, \n",
        "              name='model_training')"
      ],
      "execution_count": 0,
      "outputs": []
    },
    {
      "cell_type": "code",
      "metadata": {
        "id": "MByq5H0GGXrE",
        "colab_type": "code",
        "outputId": "8b0630b7-24f5-4eb7-cef3-bec2bcd12ded",
        "colab": {
          "base_uri": "https://localhost:8080/",
          "height": 52
        }
      },
      "source": [
        "print(state_h)\n",
        "print(decoder_input_h)"
      ],
      "execution_count": 0,
      "outputs": [
        {
          "output_type": "stream",
          "text": [
            "Tensor(\"decoder_lstm/while/Exit_2:0\", shape=(?, 512), dtype=float32)\n",
            "Tensor(\"decoder_input_h:0\", shape=(?, 512), dtype=float32)\n"
          ],
          "name": "stdout"
        }
      ]
    },
    {
      "cell_type": "code",
      "metadata": {
        "id": "1gNzBSF4GXrI",
        "colab_type": "code",
        "outputId": "396b3ac8-a689-412f-bb4c-df15c50d92ab",
        "colab": {
          "base_uri": "https://localhost:8080/",
          "height": 371
        }
      },
      "source": [
        "from IPython.display import SVG\n",
        "from keras.utils.vis_utils import model_to_dot, plot_model\n",
        "\n",
        "SVG(model_to_dot(model, show_shapes=False).create(prog='dot', format='svg'))\n",
        "\n",
        "plot_model(\n",
        "    model=model, show_shapes=False,\n",
        "    #to_file='model_training.pdf'\n",
        ")\n",
        "\n",
        "model.summary()"
      ],
      "execution_count": 0,
      "outputs": [
        {
          "output_type": "stream",
          "text": [
            "Model: \"model_training\"\n",
            "__________________________________________________________________________________________________\n",
            "Layer (type)                    Output Shape         Param #     Connected to                     \n",
            "==================================================================================================\n",
            "encoder_input_x (InputLayer)    (None, None, 28)     0                                            \n",
            "__________________________________________________________________________________________________\n",
            "decoder_input_x (InputLayer)    (None, None, 30)     0                                            \n",
            "__________________________________________________________________________________________________\n",
            "encoder (Model)                 [(None, 512), (None, 583680      encoder_input_x[0][0]            \n",
            "__________________________________________________________________________________________________\n",
            "decoder_lstm (LSTM)             [(None, None, 512),  1112064     decoder_input_x[0][0]            \n",
            "                                                                 encoder[1][0]                    \n",
            "                                                                 encoder[1][1]                    \n",
            "__________________________________________________________________________________________________\n",
            "decoder_dense (Dense)           (None, None, 30)     15390       decoder_lstm[1][0]               \n",
            "==================================================================================================\n",
            "Total params: 1,711,134\n",
            "Trainable params: 1,711,134\n",
            "Non-trainable params: 0\n",
            "__________________________________________________________________________________________________\n"
          ],
          "name": "stdout"
        }
      ]
    },
    {
      "cell_type": "markdown",
      "metadata": {
        "id": "tZSrqnhlGXrL",
        "colab_type": "text"
      },
      "source": [
        "### 3.5. Fit the model on the bilingual dataset\n",
        "\n",
        "- encoder_input_data: one-hot encode of the input language\n",
        "\n",
        "- decoder_input_data: one-hot encode of the input language\n",
        "\n",
        "- decoder_target_data: labels (left shift of decoder_input_data)\n",
        "\n",
        "- tune the hyper-parameters\n",
        "\n",
        "- stop when the validation loss stop decreasing."
      ]
    },
    {
      "cell_type": "code",
      "metadata": {
        "id": "B2v_90wYGXrM",
        "colab_type": "code",
        "outputId": "7bddd59d-0cc7-4236-9919-a4d63299c505",
        "colab": {
          "base_uri": "https://localhost:8080/",
          "height": 70
        }
      },
      "source": [
        "print('shape of encoder_input_data' + str(encoder_input_data.shape))\n",
        "print('shape of decoder_input_data' + str(decoder_input_data.shape))\n",
        "print('shape of decoder_target_data' + str(decoder_target_data.shape))"
      ],
      "execution_count": 0,
      "outputs": [
        {
          "output_type": "stream",
          "text": [
            "shape of encoder_input_data(100000, 30, 28)\n",
            "shape of decoder_input_data(100000, 72, 30)\n",
            "shape of decoder_target_data(100000, 72, 30)\n"
          ],
          "name": "stdout"
        }
      ]
    },
    {
      "cell_type": "code",
      "metadata": {
        "id": "ik5hV_ZOGXrP",
        "colab_type": "code",
        "outputId": "1a5b798c-6065-44c1-80d6-fca09fb39e69",
        "colab": {
          "base_uri": "https://localhost:8080/",
          "height": 1000
        }
      },
      "source": [
        "#from keras.optimizers import RMSprop  #\n",
        "model.compile(optimizer=\"rmsprop\" , loss='categorical_crossentropy', metrics=['acc'])\n",
        "\n",
        "model.fit([encoder_input_data, decoder_input_data],  # training data\n",
        "          decoder_target_data,                       # labels (left shift of the target sequences)\n",
        "          batch_size=64, epochs=50, validation_split=0.2)\n",
        "\n",
        "model.save('/content/drive/My Drive/seq2seq.h5')"
      ],
      "execution_count": 0,
      "outputs": [
        {
          "output_type": "stream",
          "text": [
            "WARNING:tensorflow:From /usr/local/lib/python3.6/dist-packages/keras/optimizers.py:793: The name tf.train.Optimizer is deprecated. Please use tf.compat.v1.train.Optimizer instead.\n",
            "\n",
            "WARNING:tensorflow:From /usr/local/lib/python3.6/dist-packages/keras/backend/tensorflow_backend.py:3576: The name tf.log is deprecated. Please use tf.math.log instead.\n",
            "\n",
            "WARNING:tensorflow:From /usr/local/lib/python3.6/dist-packages/tensorflow_core/python/ops/math_grad.py:1424: where (from tensorflow.python.ops.array_ops) is deprecated and will be removed in a future version.\n",
            "Instructions for updating:\n",
            "Use tf.where in 2.0, which has the same broadcast rule as np.where\n",
            "WARNING:tensorflow:From /usr/local/lib/python3.6/dist-packages/keras/backend/tensorflow_backend.py:1033: The name tf.assign_add is deprecated. Please use tf.compat.v1.assign_add instead.\n",
            "\n",
            "WARNING:tensorflow:From /usr/local/lib/python3.6/dist-packages/keras/backend/tensorflow_backend.py:1020: The name tf.assign is deprecated. Please use tf.compat.v1.assign instead.\n",
            "\n",
            "WARNING:tensorflow:From /usr/local/lib/python3.6/dist-packages/keras/backend/tensorflow_backend.py:3005: The name tf.Session is deprecated. Please use tf.compat.v1.Session instead.\n",
            "\n",
            "Train on 80000 samples, validate on 20000 samples\n",
            "Epoch 1/50\n",
            "WARNING:tensorflow:From /usr/local/lib/python3.6/dist-packages/keras/backend/tensorflow_backend.py:190: The name tf.get_default_session is deprecated. Please use tf.compat.v1.get_default_session instead.\n",
            "\n",
            "WARNING:tensorflow:From /usr/local/lib/python3.6/dist-packages/keras/backend/tensorflow_backend.py:197: The name tf.ConfigProto is deprecated. Please use tf.compat.v1.ConfigProto instead.\n",
            "\n",
            "WARNING:tensorflow:From /usr/local/lib/python3.6/dist-packages/keras/backend/tensorflow_backend.py:207: The name tf.global_variables is deprecated. Please use tf.compat.v1.global_variables instead.\n",
            "\n",
            "WARNING:tensorflow:From /usr/local/lib/python3.6/dist-packages/keras/backend/tensorflow_backend.py:216: The name tf.is_variable_initialized is deprecated. Please use tf.compat.v1.is_variable_initialized instead.\n",
            "\n",
            "WARNING:tensorflow:From /usr/local/lib/python3.6/dist-packages/keras/backend/tensorflow_backend.py:223: The name tf.variables_initializer is deprecated. Please use tf.compat.v1.variables_initializer instead.\n",
            "\n",
            "80000/80000 [==============================] - 311s 4ms/step - loss: 0.8020 - acc: 0.7673 - val_loss: 0.7585 - val_acc: 0.7624\n",
            "Epoch 2/50\n",
            "80000/80000 [==============================] - 305s 4ms/step - loss: 0.5435 - acc: 0.8331 - val_loss: 0.6050 - val_acc: 0.8107\n",
            "Epoch 3/50\n",
            "80000/80000 [==============================] - 304s 4ms/step - loss: 0.4597 - acc: 0.8581 - val_loss: 0.5309 - val_acc: 0.8344\n",
            "Epoch 4/50\n",
            "80000/80000 [==============================] - 304s 4ms/step - loss: 0.4102 - acc: 0.8732 - val_loss: 0.4852 - val_acc: 0.8484\n",
            "Epoch 5/50\n",
            "80000/80000 [==============================] - 304s 4ms/step - loss: 0.3774 - acc: 0.8831 - val_loss: 0.4560 - val_acc: 0.8579\n",
            "Epoch 6/50\n",
            "80000/80000 [==============================] - 303s 4ms/step - loss: 0.3536 - acc: 0.8903 - val_loss: 0.4340 - val_acc: 0.8647\n",
            "Epoch 7/50\n",
            "80000/80000 [==============================] - 303s 4ms/step - loss: 0.3351 - acc: 0.8959 - val_loss: 0.4155 - val_acc: 0.8708\n",
            "Epoch 8/50\n",
            "80000/80000 [==============================] - 302s 4ms/step - loss: 0.3206 - acc: 0.9001 - val_loss: 0.4034 - val_acc: 0.8747\n",
            "Epoch 9/50\n",
            "80000/80000 [==============================] - 301s 4ms/step - loss: 0.3085 - acc: 0.9038 - val_loss: 0.3921 - val_acc: 0.8781\n",
            "Epoch 10/50\n",
            "80000/80000 [==============================] - 301s 4ms/step - loss: 0.2983 - acc: 0.9068 - val_loss: 0.3838 - val_acc: 0.8807\n",
            "Epoch 11/50\n",
            "80000/80000 [==============================] - 302s 4ms/step - loss: 0.2895 - acc: 0.9095 - val_loss: 0.3768 - val_acc: 0.8831\n",
            "Epoch 12/50\n",
            "80000/80000 [==============================] - 302s 4ms/step - loss: 0.2819 - acc: 0.9116 - val_loss: 0.3760 - val_acc: 0.8838\n",
            "Epoch 13/50\n",
            "80000/80000 [==============================] - 301s 4ms/step - loss: 0.2750 - acc: 0.9138 - val_loss: 0.3671 - val_acc: 0.8864\n",
            "Epoch 14/50\n",
            "80000/80000 [==============================] - 303s 4ms/step - loss: 0.2688 - acc: 0.9156 - val_loss: 0.3619 - val_acc: 0.8880\n",
            "Epoch 15/50\n",
            "80000/80000 [==============================] - 303s 4ms/step - loss: 0.2629 - acc: 0.9174 - val_loss: 0.3557 - val_acc: 0.8901\n",
            "Epoch 16/50\n",
            "80000/80000 [==============================] - 303s 4ms/step - loss: 0.2579 - acc: 0.9190 - val_loss: 0.3542 - val_acc: 0.8905\n",
            "Epoch 17/50\n",
            "80000/80000 [==============================] - 302s 4ms/step - loss: 0.2535 - acc: 0.9202 - val_loss: 0.3547 - val_acc: 0.8906\n",
            "Epoch 18/50\n",
            "80000/80000 [==============================] - 302s 4ms/step - loss: 0.2493 - acc: 0.9215 - val_loss: 0.3498 - val_acc: 0.8924\n",
            "Epoch 19/50\n",
            "80000/80000 [==============================] - 304s 4ms/step - loss: 0.2449 - acc: 0.9228 - val_loss: 0.3463 - val_acc: 0.8933\n",
            "Epoch 20/50\n",
            "80000/80000 [==============================] - 304s 4ms/step - loss: 0.2413 - acc: 0.9239 - val_loss: 0.3445 - val_acc: 0.8941\n",
            "Epoch 21/50\n",
            "80000/80000 [==============================] - 303s 4ms/step - loss: 0.2372 - acc: 0.9252 - val_loss: 0.3444 - val_acc: 0.8944\n",
            "Epoch 22/50\n",
            "80000/80000 [==============================] - 303s 4ms/step - loss: 0.2344 - acc: 0.9260 - val_loss: 0.3395 - val_acc: 0.8957\n",
            "Epoch 23/50\n",
            "80000/80000 [==============================] - 304s 4ms/step - loss: 0.2309 - acc: 0.9270 - val_loss: 0.3434 - val_acc: 0.8954\n",
            "Epoch 24/50\n",
            "80000/80000 [==============================] - 307s 4ms/step - loss: 0.2287 - acc: 0.9278 - val_loss: 0.3383 - val_acc: 0.8963\n",
            "Epoch 25/50\n",
            "80000/80000 [==============================] - 306s 4ms/step - loss: 0.2253 - acc: 0.9288 - val_loss: 0.3367 - val_acc: 0.8973\n",
            "Epoch 26/50\n",
            "80000/80000 [==============================] - 303s 4ms/step - loss: 0.2226 - acc: 0.9295 - val_loss: 0.3346 - val_acc: 0.8981\n",
            "Epoch 27/50\n",
            "80000/80000 [==============================] - 304s 4ms/step - loss: 0.2201 - acc: 0.9303 - val_loss: 0.3354 - val_acc: 0.8981\n",
            "Epoch 28/50\n",
            "80000/80000 [==============================] - 304s 4ms/step - loss: 0.2175 - acc: 0.9311 - val_loss: 0.3331 - val_acc: 0.8984\n",
            "Epoch 29/50\n",
            "80000/80000 [==============================] - 303s 4ms/step - loss: 0.2157 - acc: 0.9316 - val_loss: 0.3327 - val_acc: 0.8993\n",
            "Epoch 30/50\n",
            "80000/80000 [==============================] - 302s 4ms/step - loss: 0.2131 - acc: 0.9324 - val_loss: 0.3336 - val_acc: 0.8991\n",
            "Epoch 31/50\n",
            "80000/80000 [==============================] - 301s 4ms/step - loss: 0.2106 - acc: 0.9332 - val_loss: 0.3313 - val_acc: 0.8997\n",
            "Epoch 32/50\n",
            "80000/80000 [==============================] - 301s 4ms/step - loss: 0.2089 - acc: 0.9337 - val_loss: 0.3304 - val_acc: 0.8998\n",
            "Epoch 33/50\n",
            "80000/80000 [==============================] - 302s 4ms/step - loss: 0.2065 - acc: 0.9345 - val_loss: 0.3294 - val_acc: 0.9001\n",
            "Epoch 34/50\n",
            "80000/80000 [==============================] - 301s 4ms/step - loss: 0.2053 - acc: 0.9349 - val_loss: 0.3299 - val_acc: 0.9003\n",
            "Epoch 35/50\n",
            "80000/80000 [==============================] - 302s 4ms/step - loss: 0.2038 - acc: 0.9353 - val_loss: 0.3303 - val_acc: 0.9004\n",
            "Epoch 36/50\n",
            "80000/80000 [==============================] - 301s 4ms/step - loss: 0.2026 - acc: 0.9357 - val_loss: 0.3298 - val_acc: 0.9007\n",
            "Epoch 37/50\n",
            "80000/80000 [==============================] - 301s 4ms/step - loss: 0.2004 - acc: 0.9363 - val_loss: 0.3303 - val_acc: 0.9007\n",
            "Epoch 38/50\n",
            "80000/80000 [==============================] - 302s 4ms/step - loss: 0.1988 - acc: 0.9367 - val_loss: 0.3283 - val_acc: 0.9013\n",
            "Epoch 39/50\n",
            "80000/80000 [==============================] - 302s 4ms/step - loss: 0.1978 - acc: 0.9370 - val_loss: 0.3281 - val_acc: 0.9013\n",
            "Epoch 40/50\n",
            "80000/80000 [==============================] - 302s 4ms/step - loss: 0.1959 - acc: 0.9376 - val_loss: 0.3277 - val_acc: 0.9015\n",
            "Epoch 41/50\n",
            "80000/80000 [==============================] - 302s 4ms/step - loss: 0.1955 - acc: 0.9377 - val_loss: 0.3290 - val_acc: 0.9020\n",
            "Epoch 42/50\n",
            "80000/80000 [==============================] - 303s 4ms/step - loss: 0.1932 - acc: 0.9384 - val_loss: 0.3260 - val_acc: 0.9023\n",
            "Epoch 43/50\n",
            "80000/80000 [==============================] - 302s 4ms/step - loss: 0.1920 - acc: 0.9388 - val_loss: 0.3279 - val_acc: 0.9021\n",
            "Epoch 44/50\n",
            "80000/80000 [==============================] - 302s 4ms/step - loss: 0.1906 - acc: 0.9392 - val_loss: 0.3265 - val_acc: 0.9020\n",
            "Epoch 45/50\n",
            "80000/80000 [==============================] - 302s 4ms/step - loss: 0.1899 - acc: 0.9395 - val_loss: 0.3253 - val_acc: 0.9029\n",
            "Epoch 46/50\n",
            "80000/80000 [==============================] - 302s 4ms/step - loss: 0.1887 - acc: 0.9397 - val_loss: 0.3267 - val_acc: 0.9024\n",
            "Epoch 47/50\n",
            "80000/80000 [==============================] - 302s 4ms/step - loss: 0.1874 - acc: 0.9402 - val_loss: 0.3254 - val_acc: 0.9027\n",
            "Epoch 48/50\n",
            "80000/80000 [==============================] - 302s 4ms/step - loss: 0.1858 - acc: 0.9406 - val_loss: 0.3275 - val_acc: 0.9022\n",
            "Epoch 49/50\n",
            "80000/80000 [==============================] - 303s 4ms/step - loss: 0.1847 - acc: 0.9410 - val_loss: 0.3275 - val_acc: 0.9025\n",
            "Epoch 50/50\n",
            "80000/80000 [==============================] - 302s 4ms/step - loss: 0.1918 - acc: 0.9389 - val_loss: 0.3253 - val_acc: 0.9031\n"
          ],
          "name": "stdout"
        }
      ]
    },
    {
      "cell_type": "markdown",
      "metadata": {
        "id": "Gdk4QPRPGXrT",
        "colab_type": "text"
      },
      "source": [
        "## 4. Make predictions\n",
        "\n",
        "\n",
        "### 4.1. Translate English to XXX\n",
        "\n",
        "1. Encoder read a sentence (source language) and output its final states, $h_t$ and $c_t$.\n",
        "2. Take the [star] sign \"\\t\" and the final state $h_t$ and $c_t$ as input and run the decoder.\n",
        "3. Get the new states and predicted probability distribution.\n",
        "4. sample a char from the predicted probability distribution\n",
        "5. take the sampled char and the new states as input and repeat the process (stop if reach the [stop] sign \"\\n\")."
      ]
    },
    {
      "cell_type": "code",
      "metadata": {
        "id": "-MvunipIGXrV",
        "colab_type": "code",
        "colab": {}
      },
      "source": [
        "# Reverse-lookup token index to decode sequences back to something readable.\n",
        "reverse_input_char_index = dict((i, char) for char, i in input_token_index.items())\n",
        "reverse_target_char_index = dict((i, char) for char, i in target_token_index.items())"
      ],
      "execution_count": 0,
      "outputs": []
    },
    {
      "cell_type": "code",
      "metadata": {
        "id": "HpLsb3woGXra",
        "colab_type": "code",
        "colab": {}
      },
      "source": [
        "def decode_sequence(input_seq):\n",
        "    states_value = encoder_model.predict(input_seq)\n",
        "\n",
        "    target_seq = numpy.zeros((1, 1, num_decoder_tokens))\n",
        "    target_seq[0, 0, target_token_index['\\t']] = 1.\n",
        "\n",
        "    stop_condition = False\n",
        "    decoded_sentence = ''\n",
        "    while not stop_condition:\n",
        "        output_tokens, h, c = decoder_model.predict([target_seq] + states_value)\n",
        "\n",
        "        # this line of code is greedy selection\n",
        "        # try to use multinomial sampling instead (with temperature)\n",
        "        sampled_token_index = numpy.argmax(output_tokens[0, -1, :])\n",
        "        \n",
        "        sampled_char = reverse_target_char_index[sampled_token_index]\n",
        "        decoded_sentence += sampled_char\n",
        "\n",
        "        if (sampled_char == '\\n' or\n",
        "           len(decoded_sentence) > max_decoder_seq_length):\n",
        "            stop_condition = True\n",
        "\n",
        "        target_seq = numpy.zeros((1, 1, num_decoder_tokens))\n",
        "        target_seq[0, 0, sampled_token_index] = 1.\n",
        "\n",
        "        states_value = [h, c]\n",
        "\n",
        "    return decoded_sentence\n"
      ],
      "execution_count": 0,
      "outputs": []
    },
    {
      "cell_type": "code",
      "metadata": {
        "id": "7chd9-0FGXrd",
        "colab_type": "code",
        "outputId": "d3ebc948-48f3-4546-91c3-31e9dcd4939d",
        "colab": {
          "base_uri": "https://localhost:8080/",
          "height": 1000
        }
      },
      "source": [
        "for seq_index in range(2100, 2120):\n",
        "    # Take one sequence (part of the training set)\n",
        "    # for trying out decoding.\n",
        "    input_seq = encoder_input_data[seq_index: seq_index + 1]\n",
        "    decoded_sentence = decode_sequence(input_seq)\n",
        "    print('-')\n",
        "    print('English:       ', input_texts[seq_index])\n",
        "    print('Franch (true): ', target_texts[seq_index][1:-1])\n",
        "    print('Franch (pred): ', decoded_sentence[0:-1])\n"
      ],
      "execution_count": 0,
      "outputs": [
        {
          "output_type": "stream",
          "text": [
            "-\n",
            "English:        i am a monk\n",
            "Franch (true):  je suis un moine\n",
            "Franch (pred):  je suis un menteur\n",
            "-\n",
            "English:        i am a twin\n",
            "Franch (true):  jai un jumeau\n",
            "Franch (pred):  je suis un genie\n",
            "-\n",
            "English:        i am better\n",
            "Franch (true):  je vais mieux\n",
            "Franch (pred):  je suis mieux\n",
            "-\n",
            "English:        i am better\n",
            "Franch (true):  je suis mieux\n",
            "Franch (pred):  je suis mieux\n",
            "-\n",
            "English:        i am coming\n",
            "Franch (true):  jarrive\n",
            "Franch (pred):  je viens\n",
            "-\n",
            "English:        i am joking\n",
            "Franch (true):  je plaisante\n",
            "Franch (pred):  je plaisante\n",
            "-\n",
            "English:        i am single\n",
            "Franch (true):  je suis celibataire\n",
            "Franch (pred):  je suis charmant\n",
            "-\n",
            "English:        i am taller\n",
            "Franch (true):  je suis plus grand\n",
            "Franch (pred):  je suis plus grand\n",
            "-\n",
            "English:        i apologize\n",
            "Franch (true):  je vous prie de mexcuser\n",
            "Franch (pred):  je me suis reconnaissant\n",
            "-\n",
            "English:        i asked tom\n",
            "Franch (true):  jai demande a tom\n",
            "Franch (pred):  jai demande a tom\n",
            "-\n",
            "English:        i assume so\n",
            "Franch (true):  je le suppose\n",
            "Franch (pred):  je le mecons\n",
            "-\n",
            "English:        i bought it\n",
            "Franch (true):  je lai achete\n",
            "Franch (pred):  je lai achete\n",
            "-\n",
            "English:        i buried it\n",
            "Franch (true):  je lai enterre\n",
            "Franch (pred):  je lai confectionnee\n",
            "-\n",
            "English:        i buried it\n",
            "Franch (true):  je lai enterree\n",
            "Franch (pred):  je lai confectionnee\n",
            "-\n",
            "English:        i burned it\n",
            "Franch (true):  je lai brule\n",
            "Franch (pred):  je lai confectionne\n",
            "-\n",
            "English:        i burned it\n",
            "Franch (true):  je lai brulee\n",
            "Franch (pred):  je lai confectionne\n",
            "-\n",
            "English:        i buy tapes\n",
            "Franch (true):  jachete des cassettes\n",
            "Franch (pred):  jai plus des cheveux\n",
            "-\n",
            "English:        i came back\n",
            "Franch (true):  je suis revenu\n",
            "Franch (pred):  je suis revenue\n",
            "-\n",
            "English:        i can dance\n",
            "Franch (true):  je sais danser\n",
            "Franch (pred):  je peux danser\n",
            "-\n",
            "English:        i can do it\n",
            "Franch (true):  je peux le faire\n",
            "Franch (pred):  je peux le faire\n"
          ],
          "name": "stdout"
        }
      ]
    },
    {
      "cell_type": "markdown",
      "metadata": {
        "id": "Rhk1fUdQGXrf",
        "colab_type": "text"
      },
      "source": [
        "### 4.2. Translate an English sentence to the target language\n",
        "\n",
        "1. Tokenization\n",
        "2. One-hot encode\n",
        "3. Translate"
      ]
    },
    {
      "cell_type": "code",
      "metadata": {
        "id": "Fo22MiPVWtCl",
        "colab_type": "code",
        "colab": {}
      },
      "source": [
        "def transfer_newstr(str_,max_len = max_encoder_seq_length):\n",
        "  str_ = str_.strip().lower()\n",
        "  tmp_vec = []\n",
        "  for idx,i in enumerate(str_):\n",
        "    if idx<max_len:\n",
        "      tmp_vec.append(input_token_index[i])\n",
        "  tmp_vec = pad_sequences([tmp_vec],maxlen=max_len, padding='post')\n",
        "  return tmp_vec"
      ],
      "execution_count": 0,
      "outputs": []
    },
    {
      "cell_type": "code",
      "metadata": {
        "id": "qkZpttA9GXri",
        "colab_type": "code",
        "outputId": "1e8f4104-2303-4252-b935-67643838cf92",
        "colab": {
          "base_uri": "https://localhost:8080/",
          "height": 70
        }
      },
      "source": [
        "input_sentence = 'Why is that'\n",
        "\n",
        "input_s = transfer_newstr(input_sentence)\n",
        "\n",
        "input_x = onehot_encode(input_s, max_encoder_seq_length, num_encoder_tokens)\n",
        "\n",
        "translated_sentence = decode_sequence(input_x)\n",
        "\n",
        "print('source sentence is: ' + input_sentence)\n",
        "print('translated sentence is: ' + translated_sentence)"
      ],
      "execution_count": 0,
      "outputs": [
        {
          "output_type": "stream",
          "text": [
            "source sentence is: Why is that\n",
            "translated sentence is: pourquoi cela\n",
            "\n"
          ],
          "name": "stdout"
        }
      ]
    },
    {
      "cell_type": "markdown",
      "metadata": {
        "id": "G-GWOhcHGXrk",
        "colab_type": "text"
      },
      "source": [
        "## 5. Evaluate the translation using BLEU score\n",
        "\n",
        "Reference: \n",
        "- https://machinelearningmastery.com/calculate-bleu-score-for-text-python/\n",
        "- https://en.wikipedia.org/wiki/BLEU\n",
        "\n",
        "\n",
        "**Hint:** \n",
        "\n",
        "- Randomly partition the dataset to training, validation, and test. \n",
        "\n",
        "- Evaluate the BLEU score using the test set. Report the average.\n",
        "\n",
        "- A reasonable BLEU score should be 0.1 ~ 0.3."
      ]
    },
    {
      "cell_type": "code",
      "metadata": {
        "id": "jE2nV4bjqbSj",
        "colab_type": "code",
        "colab": {}
      },
      "source": [
        ""
      ],
      "execution_count": 0,
      "outputs": []
    }
  ]
}